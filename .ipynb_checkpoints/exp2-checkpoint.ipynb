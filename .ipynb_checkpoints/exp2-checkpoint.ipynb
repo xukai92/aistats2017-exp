{
 "cells": [
  {
   "cell_type": "markdown",
   "metadata": {},
   "source": [
    "This notebook runs experiments on comparing the difference between time used by three forking methods\n",
    "\n",
    "1. Copying a coroutine\n",
    "2. Copying a process\n",
    "3. Replaying a coroutine\n",
    "\n",
    "by [**Kai Xu**](http://xukai92.github.io/) on **07/10/2016**"
   ]
  },
  {
   "cell_type": "markdown",
   "metadata": {},
   "source": [
    "Let's start by loading some essential packages: `Gadfly` for plotting and aimed forking methods from `Turing`."
   ]
  },
  {
   "cell_type": "code",
   "execution_count": 1,
   "metadata": {
    "collapsed": false
   },
   "outputs": [
    {
     "name": "stderr",
     "output_type": "stream",
     "text": [
      "WARNING: New definition \n",
      "    +(AbstractArray, DataArrays.DataArray) at /Users/kai/.julia/v0.4/DataArrays/src/operators.jl:276\n",
      "is ambiguous with: \n",
      "    +(WoodburyMatrices.SymWoodbury, AbstractArray{T<:Any, 2}) at /Users/kai/.julia/v0.4/WoodburyMatrices/src/SymWoodburyMatrices.jl:107.\n",
      "To fix, define \n",
      "    +(WoodburyMatrices.SymWoodbury, DataArrays.DataArray{T<:Any, 2})\n",
      "before the new definition.\n",
      "WARNING: New definition \n",
      "    +(AbstractArray, DataArrays.AbstractDataArray) at /Users/kai/.julia/v0.4/DataArrays/src/operators.jl:300\n",
      "is ambiguous with: \n",
      "    +(WoodburyMatrices.SymWoodbury, AbstractArray{T<:Any, 2}) at /Users/kai/.julia/v0.4/WoodburyMatrices/src/SymWoodburyMatrices.jl:107.\n",
      "To fix, define \n",
      "    +(WoodburyMatrices.SymWoodbury, DataArrays.AbstractDataArray{T<:Any, 2})\n",
      "before the new definition.\n"
     ]
    }
   ],
   "source": [
    "using Gadfly\n",
    "import Turing: TraceC, TraceR, fork"
   ]
  },
  {
   "cell_type": "markdown",
   "metadata": {},
   "source": [
    "Functions below are used to compute statics for plotting"
   ]
  },
  {
   "cell_type": "code",
   "execution_count": 2,
   "metadata": {
    "collapsed": false
   },
   "outputs": [],
   "source": [
    "function stds(times)\n",
    "    map(v -> std([Float64(t) for t in v]), times)\n",
    "end\n",
    "\n",
    "function means(times)\n",
    "    map(v -> mean(v), times)\n",
    "end;"
   ]
  },
  {
   "cell_type": "markdown",
   "metadata": {},
   "source": [
    "At different running time of the task, a batch of tasks are forked, and the time of forking each task is recorded. \n",
    "\n",
    "The function below did this batch forking process and returns the times."
   ]
  },
  {
   "cell_type": "code",
   "execution_count": 3,
   "metadata": {
    "collapsed": false
   },
   "outputs": [],
   "source": [
    "function batch_copy(trace, num)\n",
    "    times = Vector()\n",
    "    for _ = 1:num\n",
    "        push!(times, @elapsed fork(trace))\n",
    "    end\n",
    "    return times\n",
    "end;"
   ]
  },
  {
   "cell_type": "markdown",
   "metadata": {},
   "source": [
    "The function used for testing is a recursive version of Fibonacci sequence."
   ]
  },
  {
   "cell_type": "code",
   "execution_count": 4,
   "metadata": {
    "collapsed": false
   },
   "outputs": [],
   "source": [
    "function fib(n)\n",
    "  if n == 1 || n == 2\n",
    "    res = 1\n",
    "    produce(res)\n",
    "    return res\n",
    "  else\n",
    "    res = fib(n - 1) + fib(n - 2)\n",
    "    produce(res)\n",
    "    return res\n",
    "  end\n",
    "end;"
   ]
  },
  {
   "cell_type": "markdown",
   "metadata": {},
   "source": [
    "As the `fib()` is a recursive implementation, a wrapper is needed and an aimed `n`-th number from the Fibonaaci sequence is required (but not necessarily will be reached to the end, depending on the depths we recorded).\n",
    "\n",
    "The aimed number is defined by `n_max` and the wrapper is simply named `f()`."
   ]
  },
  {
   "cell_type": "code",
   "execution_count": 5,
   "metadata": {
    "collapsed": false
   },
   "outputs": [],
   "source": [
    "n_max = 100\n",
    "\n",
    "function f()\n",
    "  fib(n_max)\n",
    "end;"
   ]
  },
  {
   "cell_type": "markdown",
   "metadata": {},
   "source": [
    "Now we can run the experiments by calling `batch_copy` at differently time of the original task. The depth we record is up to 100 (defined by `depth_max`) and the number of tasks to be copied in a batch is 100 (defined by `num`)."
   ]
  },
  {
   "cell_type": "code",
   "execution_count": 15,
   "metadata": {
    "collapsed": false
   },
   "outputs": [],
   "source": [
    "depth_max = 100\n",
    "num = 100\n",
    "\n",
    "trace = TraceC(f)\n",
    "\n",
    "coroutine_times = Array{Vector}(depth_max)\n",
    "for depth = 1:depth_max\n",
    "    coroutine_times[depth] = batch_copy(trace, num)\n",
    "    consume(trace)\n",
    "end\n",
    "coroutine_times = coroutine_times .* 1000\n",
    "\n",
    "trace = TraceR(f)\n",
    "\n",
    "replaying_times = Array{Vector}(depth_max)\n",
    "for depth = 1:depth_max\n",
    "    replaying_times[depth] = batch_copy(trace, num)\n",
    "    consume(trace)\n",
    "end\n",
    "replaying_times = replaying_times .* 1000;"
   ]
  },
  {
   "cell_type": "markdown",
   "metadata": {},
   "source": [
    "Then we can make the plot now, using the predefined `means` and `stds` functions in the beginning to generate statistics."
   ]
  },
  {
   "cell_type": "code",
   "execution_count": 16,
   "metadata": {
    "collapsed": false
   },
   "outputs": [],
   "source": [
    "coroutine_means = means(coroutine_times)\n",
    "coroutine_stds = stds(coroutine_times)\n",
    "coroutine_mins = coroutine_means .- (1.96 * coroutine_stds / sqrt(depth_max))\n",
    "coroutine_maxs = coroutine_means .+ (1.96 * coroutine_stds / sqrt(depth_max))\n",
    "\n",
    "coroutine_layer = layer(\n",
    "    x=1:depth_max, y=coroutine_means, ymin=coroutine_mins, ymax=coroutine_maxs, Geom.line, Geom.ribbon,\n",
    "    Theme(default_color=colorant\"greenyellow\")\n",
    ")\n",
    "\n",
    "replaying_means = means(replaying_times)\n",
    "replaying_stds = stds(replaying_times)\n",
    "replaying_mins = replaying_means - (1.96 * replaying_stds / sqrt(depth_max))\n",
    "replaying_maxs = replaying_means + (1.96 * replaying_stds / sqrt(depth_max))\n",
    "\n",
    "replaying_layer = layer(\n",
    "    x=1:depth_max, y=replaying_means, ymin=replaying_mins, ymax=replaying_maxs, Geom.line, Geom.ribbon,\n",
    "    Theme(default_color=colorant\"hotpink\")\n",
    ")\n",
    "\n",
    "p = plot(\n",
    "    coroutine_layer, replaying_layer,\n",
    "    Guide.xlabel(\"Depth of Recursion\"), Guide.ylabel(\"Time (ms)\"),\n",
    "    Guide.title(\"Time Cost for Different Forking Methods\"),\n",
    "    Guide.manual_color_key(\"Legend\",[\"Coroutine\",\"Replaying\"], [\"greenyellow\", \"hotpink\"])\n",
    ")\n",
    "\n",
    "draw(PDF(\"exp2.pdf\", 6inch, 4.5inch), p)"
   ]
  },
  {
   "cell_type": "code",
   "execution_count": null,
   "metadata": {
    "collapsed": true
   },
   "outputs": [],
   "source": []
  }
 ],
 "metadata": {
  "kernelspec": {
   "display_name": "Julia 0.4.7",
   "language": "julia",
   "name": "julia-0.4"
  },
  "language_info": {
   "file_extension": ".jl",
   "mimetype": "application/julia",
   "name": "julia",
   "version": "0.4.7"
  }
 },
 "nbformat": 4,
 "nbformat_minor": 0
}
